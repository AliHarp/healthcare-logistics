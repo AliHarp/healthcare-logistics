{
 "cells": [
  {
   "cell_type": "markdown",
   "metadata": {},
   "source": [
    "# HPDM097: Foundations of combinatorial optimisation for routing and scheduling problems in health\n",
    "# OPTIONAL TOPIC: Patient transport\n",
    "\n",
    "Many healthcare systems manage assets or workforces that they need to deploy geographically. For example, patient transport services where a fleet of non-emergency ambulances pick up patients from their own home and transport them to outpatient appointments in a clinical setting. These problems can be classified as (Rich) Vehicle Routing Problems. \n",
    "\n",
    "To see a real world application of this approach please see [Allen et al. (2020). A simulation modelling toolkit to support dialysis services during the COVID-19 pandemic](https://journals.plos.org/plosone/article?id=10.1371/journal.pone.0237628)\n",
    "\n",
    "---\n",
    "\n",
    "**In this notebook** you will learn how to \n",
    "\n",
    "* Represent a patient transport problem as the capacitated vehicle routing problem (CVRP)\n",
    "* Gain experience of applying **Iterated Local Search** to model and solve the CRVP.\n",
    "* Understand the limitations of the CVRP formulation of the problem.\n",
    "\n",
    "> Vehicle routing problems are inherently intractable: the length of time it takes to solve them grows exponentially with the size of the problem. For sufficiently large problems, it could take routing software years to find the optimal solution.  As in the case of the Travelling Salesman Problem we need to apply algorithms that provide good or near optimal solutions to the problem."
   ]
  },
  {
   "cell_type": "markdown",
   "metadata": {},
   "source": [
    "# Imports"
   ]
  },
  {
   "cell_type": "code",
   "execution_count": 16,
   "metadata": {},
   "outputs": [],
   "source": [
    "import numpy as np\n",
    "import pandas as pd\n",
    "from numpy.random import RandomState\n",
    "import matplotlib.pyplot as plt\n",
    "import seaborn as sns\n",
    "sns.set()\n",
    "\n",
    "from metapy.tsp.euclidean import gen_matrix, euclidean_distance\n",
    "\n",
    "from metapy.local_search.hill_climbing import (HillClimber,\n",
    "                                               TweakTwoOpt)\n",
    "\n",
    "from metapy.local_search.ils import (IteratedLocalSearch,\n",
    "                                     HigherQualityHomeBase,\n",
    "                                     RandomHomeBase,\n",
    "                                     EpsilonGreedyHomeBase,\n",
    "                                     AnnealingEpsilonGreedyHomeBase,\n",
    "                                     TempFastCoolingSchedule,\n",
    "                                     DoubleBridgePertubation,\n",
    "                                     TabuDoubleBridgeTweak)\n",
    "\n",
    "#objective for unit demand (individual patients) CVRP\n",
    "from metapy.tsp.objective import CVRPUnitDemandObjective\n",
    "\n",
    "from joblib import Parallel, delayed"
   ]
  },
  {
   "cell_type": "markdown",
   "metadata": {},
   "source": [
    "## Helper functions\n",
    "\n",
    "The notebook includes a number of utility functions to facilitate your exploration of the CVRP.  Feel free to explore and ask questions about them.  They provide the ability to run the ILS algorithm multiple times in parallel (using `joblib`), generate a random CVRP problem and plot the result."
   ]
  },
  {
   "cell_type": "code",
   "execution_count": 2,
   "metadata": {},
   "outputs": [],
   "source": [
    "def multiple_runs(n_patients, random_states, ils_iter, instance_seed=101, \n",
    "                  n_jobs=-1):\n",
    "    '''\n",
    "    Perform multiple parallel runs of ILS    \n",
    "    '''\n",
    "    x_coords, y_coords = generate_instance(n_patients, \n",
    "                                           random_state=instance_seed)\n",
    "    \n",
    "    coords = [[x, y] for x, y in zip(x_coords, y_coords)]\n",
    "    matrix = gen_matrix(np.array(coords))\n",
    "    \n",
    "    \n",
    "    res = Parallel(n_jobs=n_jobs)(delayed(single_run)(n_patients, matrix, rs, \n",
    "                   ils_iter) for rs in random_states)\n",
    "    \n",
    "    return res\n",
    "\n",
    "def single_run(n_patients, distance_matrix, random_state, ils_iter=20):\n",
    "    '''\n",
    "    Perform a single run of ILS\n",
    "    '''\n",
    "    init_solution = np.arange(n_patients+1)\n",
    "    ils_solver = create_solver(distance_matrix, \n",
    "                               4, \n",
    "                               init_solution, \n",
    "                               random_state=random_state)\n",
    "    ils_solver.run(n=ils_iter)\n",
    "    return ils_solver.get_best_solutions()[0]"
   ]
  },
  {
   "cell_type": "code",
   "execution_count": 3,
   "metadata": {},
   "outputs": [],
   "source": [
    "def plot_solution(routes, x_coords, y_coords):\n",
    "    '''\n",
    "    Plot a solution to the CVRP\n",
    "    '''\n",
    "    xc = x_coords\n",
    "    yc = y_coords\n",
    "    \n",
    "    for route in routes:\n",
    "        \n",
    "        for k in range(len(route)-1):\n",
    "            i, j = route[k], route[k+1]\n",
    "            plt.plot([xc[i], xc[j]], [yc[i], yc[j]], c='green')\n",
    "            \n",
    "        plt.plot([xc[route[-1]], xc[0]], [yc[route[-1]], yc[0]], c='green')\n",
    "        plt.plot([xc[route[0]], xc[0]], [yc[route[0]], yc[0]], c='green')\n",
    "    \n",
    "    plt.plot(xc[0], yc[0], c='r', marker='^')\n",
    "    plt.scatter(xc[1:], yc[1:], c='b')\n",
    "    \n",
    "    i = 1\n",
    "    for x, y in zip(x_coords[1:], y_coords[1:]):\n",
    "        #plt.text(x * (1 + 0.01), y * (1 + 0.01) , i, fontsize=12)\n",
    "        i += 1\n",
    "        "
   ]
  },
  {
   "cell_type": "code",
   "execution_count": 4,
   "metadata": {},
   "outputs": [],
   "source": [
    "def generate_instance(n_patients, random_state=None):\n",
    "    '''\n",
    "    Generate a random instance of the CVRP\n",
    "    \n",
    "    Params:\n",
    "    ------\n",
    "    n_patients: int\n",
    "        Number of patients to include in the instance\n",
    "        \n",
    "    random_state: int\n",
    "        seed for random numbers\n",
    "        \n",
    "    Returns:\n",
    "        np.ndarray, np.ndarray\n",
    "        x coordinations, y coordinates\n",
    "    '''\n",
    "\n",
    "    #random number generator for synthetic data.\n",
    "    rand_gen = RandomState(seed=random_state)\n",
    "\n",
    "    #n_patients = 1 so we include the depot\n",
    "    x_coords = rand_gen.random(size=n_patients+1) * 200\n",
    "    y_coords = rand_gen.random(size=n_patients+1) * 100\n",
    "\n",
    "    return x_coords, y_coords"
   ]
  },
  {
   "cell_type": "code",
   "execution_count": 5,
   "metadata": {},
   "outputs": [],
   "source": [
    "def plot_patient_coordinates(x_coords, y_coords):\n",
    "    '''\n",
    "    Plot a simple scatter of coordinates. \n",
    "    Depot is red, customers are blue\n",
    "    \n",
    "    Params:\n",
    "    --------\n",
    "    x_coords: array-like\n",
    "        x coordinates for each patient. element 0 = depot.\n",
    "        \n",
    "    y_coords: array-like\n",
    "        y coordinates for each patient. element 0 = depot\n",
    "    '''\n",
    "    plt.plot(x_coords[0], y_coords[0], c='r', marker='^')\n",
    "    \n",
    "    for i in range(1, len(x_coords[1:])):\n",
    "        x = x_coords[i]\n",
    "        y = y_coords[i]\n",
    "        plt.plot(x, y, 'b*')\n",
    "        plt.text(x * (1 + 0.01), y * (1 + 0.01) , i, fontsize=12)\n",
    "    \n",
    "    plt.xlim((0, 220))\n",
    "    plt.ylim((0, 120))\n",
    "    plt.show()"
   ]
  },
  {
   "cell_type": "code",
   "execution_count": 6,
   "metadata": {},
   "outputs": [],
   "source": [
    "def convert_tour_to_routes(tour, capacity):\n",
    "    '''\n",
    "    Easy as demand comes in single units and\n",
    "    capacity is an integer\n",
    "    '''\n",
    "    n_cities = len(tour)\n",
    "    capacity = int(capacity)\n",
    "    splits = [i for i in range(capacity, n_cities, capacity)]\n",
    "    routes = np.split(tour, splits)\n",
    "    return routes"
   ]
  },
  {
   "cell_type": "code",
   "execution_count": 7,
   "metadata": {},
   "outputs": [],
   "source": [
    "def create_solver(matrix, capacity, init_solution, random_state=None):\n",
    "    '''\n",
    "    create an instance of a ILS solver\n",
    "    '''\n",
    "    \n",
    "    # CVRP objective'\n",
    "    cvrp_obj = CVRPUnitDemandObjective(matrix, 0, capacity)\n",
    "    \n",
    "    #Hill climber\n",
    "    local_search = HillClimber(objective=cvrp_obj,\n",
    "                               init_solution=init_solution,\n",
    "                               tweaker=TweakTwoOpt(), \n",
    "                               maximisation=False)\n",
    "    \n",
    "    #iterated local search\n",
    "    ils = IteratedLocalSearch(local_search, \n",
    "                              accept=EpsilonGreedyHomeBase())\n",
    "    return ils"
   ]
  },
  {
   "cell_type": "markdown",
   "metadata": {},
   "source": [
    "## Generating a test problem instance.\n",
    "\n",
    "To create an synthetic instance of the CVRP you can use the `generate_instance` function.  The `random_state` parameter allows you to recreate problems.  The code below is set up to produce a 30 patient problem."
   ]
  },
  {
   "cell_type": "code",
   "execution_count": 29,
   "metadata": {},
   "outputs": [
    {
     "data": {
      "image/png": "[encoded data removed]",
      "text/plain": [
       "<Figure size 432x288 with 1 Axes>"
      ]
     },
     "metadata": {},
     "output_type": "display_data"
    }
   ],
   "source": [
    "N_PATIENTS = 30\n",
    "SEED = 101\n",
    "\n",
    "#visualise\n",
    "x_coords, y_coords = generate_instance(N_PATIENTS, random_state=SEED)\n",
    "plot_patient_coordinates(x_coords, y_coords)"
   ]
  },
  {
   "cell_type": "markdown",
   "metadata": {},
   "source": [
    "# Representing the routes"
   ]
  },
  {
   "cell_type": "code",
   "execution_count": 30,
   "metadata": {},
   "outputs": [
    {
     "data": {
      "text/plain": [
       "[array([0, 1, 2, 3]),\n",
       " array([4, 5, 6, 7]),\n",
       " array([ 8,  9, 10, 11]),\n",
       " array([12, 13, 14, 15]),\n",
       " array([16, 17, 18, 19])]"
      ]
     },
     "execution_count": 30,
     "metadata": {},
     "output_type": "execute_result"
    }
   ],
   "source": [
    "N_PATIENTS = 20\n",
    "\n",
    "#solution is represented as vector as in TSP\n",
    "init_solution = np.arange(N_PATIENTS)\n",
    "\n",
    "#we can see the subtours by simply splitting by capacity\n",
    "#note there are other methods to do this.\n",
    "convert_tour_to_routes(init_solution, capacity=4)"
   ]
  },
  {
   "cell_type": "markdown",
   "metadata": {},
   "source": [
    "# Solution using Iterated Local Search\n",
    "\n",
    "* ILS is part of a family of methods called meta-heuristics.  \n",
    "* These allow you to get a 'good' solution quickly, but it may not be optimal."
   ]
  },
  {
   "cell_type": "code",
   "execution_count": 37,
   "metadata": {},
   "outputs": [
    {
     "name": "stdout",
     "output_type": "stream",
     "text": [
      "ILS solution: -1459.07\n",
      "CPU times: user 2.47 s, sys: 7.67 ms, total: 2.48 s\n",
      "Wall time: 2.46 s\n"
     ]
    }
   ],
   "source": [
    "%%time \n",
    "N_PATIENTS = 30\n",
    "INSTANCE_SEED = 101\n",
    "ILS_ITERS = 20 \n",
    "\n",
    "#create patient data, distance between patients and initial solution.\n",
    "x_coords, y_coords = generate_instance(N_PATIENTS, random_state=INSTANCE_SEED)\n",
    "coords = [[x, y] for x, y in zip(x_coords, y_coords)]\n",
    "init_solution = np.arange(N_PATIENTS+1)\n",
    "distance_matrix = gen_matrix(np.array(coords))\n",
    "\n",
    "#use ILS to generate a 'good' solution.\n",
    "ils_solver = create_solver(distance_matrix, 4, init_solution, random_state=28)\n",
    "ils_solver.run(n=ILS_ITERS)\n",
    "\n",
    "print(f'ILS solution: {ils_solver.get_best_solutions()[0]:.2f}')"
   ]
  },
  {
   "cell_type": "markdown",
   "metadata": {},
   "source": [
    "# Visuliase routes as a plot"
   ]
  },
  {
   "cell_type": "code",
   "execution_count": 38,
   "metadata": {},
   "outputs": [
    {
     "data": {
      "image/png": "[encoded data removed]",
      "text/plain": [
       "<Figure size 432x288 with 1 Axes>"
      ]
     },
     "metadata": {},
     "output_type": "display_data"
    }
   ],
   "source": [
    "solution = ils_solver.get_best_solutions()[1][0]\n",
    "routes = convert_tour_to_routes(solution[1:], 4)\n",
    "plot_solution(routes, x_coords, y_coords)"
   ]
  },
  {
   "cell_type": "markdown",
   "metadata": {},
   "source": [
    "# Multiple runs of the algorithm\n",
    "\n",
    "As ILS is a stochastic algorithm, it is instructive to run it multiple times to quantify its performance on average (and best and worst cases).  The code listing below performs multiple runs for you.  Note that when `n_jobs=-1` the function performs the runs in parallel.  This means that you can take advantage of the virtual cores on your machine and get results in less time. "
   ]
  },
  {
   "cell_type": "code",
   "execution_count": 39,
   "metadata": {},
   "outputs": [
    {
     "name": "stdout",
     "output_type": "stream",
     "text": [
      "[-2532.0306407726634, -2502.8429459582344, -2538.1152640186724]=> mean: -2524.33\n",
      "time taken: 26.79s\n"
     ]
    }
   ],
   "source": [
    "import time\n",
    "\n",
    "start = time.time()\n",
    "\n",
    "#use a reasonably big problem sized 60 - 100 is challenging and may take 30s.\n",
    "N_PATIENTS = 60\n",
    "\n",
    "#three runs of ILS to examine avg performance...\n",
    "results = multiple_runs(N_PATIENTS, [19, 41, 28], ils_iter=20, n_jobs=-1)\n",
    "print(results, end='=> ')\n",
    "print(f'mean: {np.mean(results):.2f}')\n",
    "print(f'time taken: {time.time() - start:.2f}s')"
   ]
  }
 ],
 "metadata": {
  "kernelspec": {
   "display_name": "Python 3",
   "language": "python",
   "name": "python3"
  },
  "language_info": {
   "codemirror_mode": {
    "name": "ipython",
    "version": 3
   },
   "file_extension": ".py",
   "mimetype": "text/x-python",
   "name": "python",
   "nbconvert_exporter": "python",
   "pygments_lexer": "ipython3",
   "version": "3.7.3"
  }
 },
 "nbformat": 4,
 "nbformat_minor": 4
}
